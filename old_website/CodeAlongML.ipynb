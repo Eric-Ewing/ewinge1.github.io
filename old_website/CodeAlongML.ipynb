{
  "nbformat": 4,
  "nbformat_minor": 0,
  "metadata": {
    "colab": {
      "provenance": [],
      "collapsed_sections": [
        "74q-qU-LXehH"
      ],
      "authorship_tag": "ABX9TyNwCbj973AKkN076rLq6n0x",
      "include_colab_link": true
    },
    "kernelspec": {
      "name": "python3",
      "display_name": "Python 3"
    },
    "language_info": {
      "name": "python"
    },
    "accelerator": "GPU"
  },
  "cells": [
    {
      "cell_type": "markdown",
      "metadata": {
        "id": "view-in-github",
        "colab_type": "text"
      },
      "source": [
        "<a href=\"https://colab.research.google.com/github/ewinge1/ewinge1.github.io/blob/master/CodeAlongML.ipynb\" target=\"_parent\"><img src=\"https://colab.research.google.com/assets/colab-badge.svg\" alt=\"Open In Colab\"/></a>"
      ]
    },
    {
      "cell_type": "code",
      "metadata": {
        "id": "AvteqzkJY8j9"
      },
      "source": [
        "import torch\n",
        "import numpy as np\n",
        "import matplotlib.pyplot as plt\n",
        "import urllib.request\n",
        "from IPython.display import clear_output\n",
        "import sklearn"
      ],
      "execution_count": null,
      "outputs": []
    },
    {
      "cell_type": "markdown",
      "metadata": {
        "id": "csy5rx2YgQk_"
      },
      "source": [
        "#Linear Regression"
      ]
    },
    {
      "cell_type": "code",
      "metadata": {
        "id": "Yi0m4IF0XNUc"
      },
      "source": [
        "# Download and load the dataset, this process differs between different datasets, but there are generally many datasets available online\n",
        "urllib.request.urlretrieve(\"https://raw.githubusercontent.com/CC-MNNIT/2018-19-Classes/master/MachineLearning/2018_08_22_Logical-Rhythm-2/data.csv\", \"data.csv\")\n",
        "data = np.genfromtxt('data.csv', delimiter=',')"
      ],
      "execution_count": null,
      "outputs": []
    },
    {
      "cell_type": "markdown",
      "metadata": {
        "id": "Xms8zBIygVhb"
      },
      "source": [
        "We are using a dataset that contains the time spent studying for a test and the result on that test. The time spent studying is placed in x (because it's the dependent variable, our input). The test result is placed in y."
      ]
    },
    {
      "cell_type": "code",
      "metadata": {
        "id": "AS1a01Y6ZBws"
      },
      "source": [
        "x = np.array(data[:, 0])\n",
        "y = np.array(data[:, 1])\n",
        "\n",
        "# Plot our dataset\n",
        "plt.scatter(x, y)\n",
        "plt.xlabel('Hours of Study')\n",
        "plt.ylabel('Test Scores')\n",
        "plt.title('Studying and Test Scores')\n",
        "plt.show()"
      ],
      "execution_count": null,
      "outputs": []
    },
    {
      "cell_type": "code",
      "metadata": {
        "id": "4FOMRd35vWlI"
      },
      "source": [
        "def plot_lin_reg(x, y, m, b):\n",
        "  # Plots a linear regression. Can be called in succession to create an animation\n",
        "  # Plots the dataset of x, y, and the line defined by m, b\n",
        "  plt.scatter(x, y)\n",
        "  y_pred = None #TODO: What should our line look like given m, x, and b?\n",
        "  plt.plot(x, y_pred, color='orange', label='m={:.2f}, b={:.2f}'.format(m, b))\n",
        "  plt.legend()\n",
        "  plt.xlabel('Hours of Study')\n",
        "  plt.ylabel('Test Scores')\n",
        "  plt.title('Studying and Test Scores')\n",
        "  clear_output(wait=True) # Clears the ipynb display for animation purposes\n",
        "  plt.show()\n",
        "  plt.pause(0.25)"
      ],
      "execution_count": null,
      "outputs": []
    },
    {
      "cell_type": "code",
      "metadata": {
        "id": "eVuVnnHrcqIj"
      },
      "source": [
        "def f(x, params):\n",
        "  # Our Linear Regression Model, params is a tensor containing [m, b]\n",
        "  # You can index into tensors the same way you index into arrays\n",
        "  # you can also do:\n",
        "  # m = params[0]\n",
        "  # b = params[1]\n",
        "  y = None # TODO: What should y be?\n",
        "  return y\n",
        "\n",
        "def mse(y_pred, ground_truth):\n",
        "  # Returns the Mean Squared Error between our predictions (y_pred) and the ground truth\n",
        "  # Hint: numpy and torch both have mean functions you can use\n",
        "  # torch.mean(tensor) or np.mean(array)\n",
        "  squared_error = None #TODO\n",
        "  mean_squared_error = None #TODO\n",
        "  return mean_squared_error"
      ],
      "execution_count": null,
      "outputs": []
    },
    {
      "cell_type": "code",
      "metadata": {
        "id": "SVXjuEGUv_BY"
      },
      "source": [
        "# Initialize our parameters (m, b) to be (0, 0)\n",
        "# PyTorch will automatically calculate the gradient for us, we just have to tell it we need it (requires_grad_())\n",
        "params = torch.zeros(2).requires_grad_()\n",
        "print(\"Initial Parameters: \", params)\n",
        "\n",
        "# Torch requires things to be its own Tensor data structure (like arrays in numpy)\n",
        "y = torch.tensor(y)\n",
        "x = torch.tensor(x)"
      ],
      "execution_count": null,
      "outputs": []
    },
    {
      "cell_type": "code",
      "metadata": {
        "id": "6illqfqMcseh"
      },
      "source": [
        "# n_epochs is how many iterations we will run our algorithm for\n",
        "n_epochs = 150\n",
        "\n",
        "# The learning rate controls the step size for each iteration.\n",
        "# Too large of a learning rate causes the algorithm not to converge\n",
        "# too small causes the algorithm to run slowly or get stuck along the way\n",
        "lr = 1e-5\n",
        "\n",
        "loss = 0\n",
        "\n",
        "for i in range(n_epochs):\n",
        "  # Run our input (x) through our model (f) to get our predictions (y_pred)\n",
        "  y_pred = f(x, params)\n",
        "  # Compute the error between our predictions (y_pred) and the ground truth (y)\n",
        "  loss = mse(y_pred, y)\n",
        "\n",
        "  # Compute the gradient of our loss calculation\n",
        "  loss.backward()\n",
        "  # Take a small step in the direction of the negative gradient\n",
        "  # (the gradient, like derivatives, give how fast the function increases, but we want our loss function to go down, so we add the negative gradient)\n",
        "\n",
        "  params.data -= lr * params.grad.data\n",
        "\n",
        "  # Reset the gradient. Torch gets mad if you call backward() twice without resetting\n",
        "  params.grad = None\n",
        "\n",
        "  if i % 5 == 0:\n",
        "    #Plot/Print every so often\n",
        "    plot_lin_reg(x, y, params[0].detach(), params[1].detach())\n",
        "    print('epoch {}: loss: {}'.format(i, loss))"
      ],
      "execution_count": null,
      "outputs": []
    },
    {
      "cell_type": "code",
      "metadata": {
        "id": "PuYd3KHCZLI4"
      },
      "source": [
        "print(params)"
      ],
      "execution_count": null,
      "outputs": []
    },
    {
      "cell_type": "markdown",
      "metadata": {
        "id": "ENmR_WNDgGeL"
      },
      "source": [
        "So the best parameters we've found are m=1.4782 and b=0.300!\n",
        "\n",
        "How well do you think someone who studied for 80 hours would do?\n",
        "We can try and predict by evaluating our model f(80) = 1.4782 * 80 + 0.300 = 118.56. How much do we trust this number? We know how well the data did on our dataset, but how would it do if we tried it on other data for this test?"
      ]
    },
    {
      "cell_type": "markdown",
      "metadata": {
        "id": "_Uda-LgJn_Aj"
      },
      "source": [
        "#Evaluating Models\n",
        "\n",
        "We have completed trained our own linear regression model, and it looks like it represents the data fairly well. How well do we think it will do if we brought in new data? We can look at our total error to get an idea of how well the model did, and it looks quite good, so it might be able to <i>generalize</i> well to new data. It's not always the case that doing well on your dataset means that you can generalize well. To demonstrate this, we'll fit a series of new models using numpy's polyfit method.\n",
        "\n",
        "##Training Absurd Models\n",
        "Linear models are the simplest models that we can fit to a dataset. We will move on to polynomial regression, which generalizes regression to any degree polynomial (a 3rd degree polynomial would be f(x) = a<sub>0</sub> + a<sub>1</sub>x<sup>1</sup>+ a<sub>2</sub>x<sup>2</sup> + a<sub>3</sub>x<sup>3</sup>)\n",
        "\n",
        "Typically, the more complicated your model, the more <i>representative</i> power it has and the more complicated datasets it can work on. However, it's possible for your model to be too complicated. Let's train a series of polynomial regressions up until a 100 degree polynomial and see what happens"
      ]
    },
    {
      "cell_type": "code",
      "metadata": {
        "id": "Piapl7kpn-hR"
      },
      "source": [
        "def plot_poly_reg(x, y, poly):\n",
        "  # Plots a linear regression. Can be called in succession to create an animation\n",
        "  plt.scatter(x, y)\n",
        "  # This time, I want to plot the polynomial not just whever we have data, but evenly throughout our domain\n",
        "  domain = np.linspace(min(x), max(x), 5000)\n",
        "  plt.plot(domain, poly(domain), color='orange')\n",
        "\n",
        "  plt.xlabel('Hours of Study')\n",
        "  plt.ylabel('Test Scores')\n",
        "  plt.title('Studying and Test Scores')\n",
        "  plt.ylim(min(y), 1.05 * max(y))\n",
        "  clear_output(wait=True)\n",
        "  plt.show()\n",
        "  plt.pause(0.05)\n",
        "\n",
        "for i in range(100):\n",
        "  # Now we'll use numpy's polynomial regression tool\n",
        "  # numpy has a np.polyfit function, which takes (x, y, degree)\n",
        "  # and returns the parameters that best fit the data for the given degree polynomial.\n",
        "  # Fit a polynomial of degree i to our data\n",
        "  params = None #TODO\n",
        "\n",
        "  # Poly1d lets you give numpy an array of parameters and gives you a callable function, that takes an input x\n",
        "  polynomial = np.poly1d(params)\n",
        "  plot_poly_reg(x, y, polynomial)"
      ],
      "execution_count": null,
      "outputs": []
    },
    {
      "cell_type": "markdown",
      "metadata": {
        "id": "R8Q-4TppwQo7"
      },
      "source": [
        "MSE of this model:"
      ]
    },
    {
      "cell_type": "code",
      "metadata": {
        "id": "vaA7Bioxv6VH"
      },
      "source": [
        "y_pred = polynomial(x)\n",
        "print(\"MSE of 100 degree polynomial: \", mse(torch.tensor(y_pred), y))"
      ],
      "execution_count": null,
      "outputs": []
    },
    {
      "cell_type": "markdown",
      "metadata": {
        "id": "PWpBulp-vMfd"
      },
      "source": [
        "Our model does quite well where are data actually is, it passes almost perfectly through all points with x>65. However, it clearly won't be right where are data currently isn't, around x=30, x=70, or any other time the function leaves our screen. This model is worse than the linear regression and unusable with new data that might not fall exactly where our old data fell. This model has <i>overfit</i> our dataset, such that it is accurate for our data, but not for anything else. But our evaluation metric is telling us that it's better! Our evaluation method is flawed.\n",
        "\n",
        "##Training/Test Dataset Split\n",
        "We can test how likely our model is to generalize by splitting up our dataset. We'll use some of the data to train our model, this part of the data will be our <i>training set</i>. The other part of our dataset, the <i>test set</i>, will only be used for evaluating our model (no part of it is used for fitting or training our model!). We can then test our error on our test set to see if our model generalizes to data that it didn't have during the training process."
      ]
    },
    {
      "cell_type": "code",
      "metadata": {
        "id": "qWhbO8fVgBlH"
      },
      "source": [
        "from sklearn.model_selection import train_test_split\n",
        "# sklearn has a built in train/test split function we can use\n",
        "# It takes train_test_split(data, labels, test_size=)\n",
        "# Make the split such that the test size is 0.15 of the whole dataset\n",
        "\n",
        "x_train, x_test, y_train, y_test = None #TODO\n",
        "\n",
        "print(\"Original Dataset size: {}, Training set size: {}, Test set size: {}\".format(len(x), len(x_train), len(x_test)))"
      ],
      "execution_count": null,
      "outputs": []
    },
    {
      "cell_type": "markdown",
      "metadata": {
        "id": "wZS9Nh1p0EJx"
      },
      "source": [
        "Training new models (now only with numpy's built in functions)\n"
      ]
    },
    {
      "cell_type": "code",
      "metadata": {
        "id": "K5U4poXgpMsg"
      },
      "source": [
        "# A Line is just a deg=1 polynomial\n",
        "# Use np.polyfit to fit a line on just the training set\n",
        "lin_reg_coeffs = None #TODO\n",
        "\n",
        "# We'll bump our degree down to 75 for our polynomial regression.\n",
        "# Having a higher degree than the number of points can lead to issues\n",
        "# (imagine fitting a line through 1 point, there's a lot of possible lines, but even more possible parabolas/cubic functions etc.\n",
        "poly_reg_coeffs = np.polyfit(x_train, y_train, deg=75)\n",
        "\n",
        "lin_reg = np.poly1d(lin_reg_coeffs)\n",
        "poly_reg = np.poly1d(poly_reg_coeffs)"
      ],
      "execution_count": null,
      "outputs": []
    },
    {
      "cell_type": "code",
      "metadata": {
        "id": "Z4yF2omrqO6T"
      },
      "source": [
        "plot_poly_reg(x, y, lin_reg)"
      ],
      "execution_count": null,
      "outputs": []
    },
    {
      "cell_type": "code",
      "metadata": {
        "id": "2oRWo0E01JAk"
      },
      "source": [
        "plot_poly_reg(x, y, poly_reg)"
      ],
      "execution_count": null,
      "outputs": []
    },
    {
      "cell_type": "markdown",
      "metadata": {
        "id": "RPVXRZG_1Psv"
      },
      "source": [
        "Now let's compare their performance on the train and test sets"
      ]
    },
    {
      "cell_type": "code",
      "metadata": {
        "id": "NNJ9jVv31LLR"
      },
      "source": [
        "#TODO: compute the predictions for the linear regression and the polynomial regression for test and train sets\n",
        "y_lin_pred_test = None\n",
        "y_lin_pred_train = None\n",
        "y_poly_pred_test = None\n",
        "y_poly_pred_train = None\n",
        "print(\"Linear Regression MSE on Train Set: {}, and the Test Set: {}\".format(\n",
        "    mse(y_train, y_lin_pred_train),\n",
        "    mse(y_test, y_lin_pred_test)))\n",
        "print(\"Polynomial Regression MSE on Train Set: {}, and the Test Set: {}\".format(\n",
        "    mse(y_train, y_poly_pred_train),\n",
        "    mse(y_test, y_poly_pred_test)))"
      ],
      "execution_count": null,
      "outputs": []
    },
    {
      "cell_type": "markdown",
      "metadata": {
        "id": "0J8DDiKX2KRs"
      },
      "source": [
        "It's an exaggerated example, but our polynomial regression has a very high test error. A higher test error than train error is an indication that your model has overfit to your training set. In our case we actually do better on the test set, this is likely because no outliers were put into the test set (by random chance)."
      ]
    },
    {
      "cell_type": "markdown",
      "metadata": {
        "id": "ko6jW1wC3z69"
      },
      "source": [
        "#Neural Networks"
      ]
    },
    {
      "cell_type": "code",
      "metadata": {
        "id": "RTM3uhJq2Bki"
      },
      "source": [
        "from torch import nn\n",
        "\n",
        "# We'll make NNs by making classes to hold them\n",
        "# These classes must inherit from nn.Module to be used with Torch\n",
        "# nn.Module provides a backward() function automatically (you don't have to compute your own gradients!)\n",
        "class my_NN(nn.Module):\n",
        "  # General one layer NN, adjustable number of inputs/output/width\n",
        "  def __init__(self, n_inputs, n_outputs, width):\n",
        "    # You always have to call the constructor of super first thing (runs constructor of nn.Module)\n",
        "    super().__init__()\n",
        "\n",
        "    # Make two linear layers, one that goes from n_inputs to a certain width\n",
        "    self.linear1 = nn.Linear(n_inputs, width)\n",
        "    # And the second that moves from that width to the correct number of outputs\n",
        "    self.linear2 = nn.Linear(width, n_outputs)\n",
        "\n",
        "    # The activation function we'll use, ReLU is just a fancy x=max(0, x)\n",
        "    self.relu = nn.ReLU()\n",
        "\n",
        "\n",
        "  def forward(self, x):\n",
        "    # The forward operations that take place in our model\n",
        "    # You have to implement this (often the only function in your class)\n",
        "    # You don't have to immplement backward(), which is much more complicated\n",
        "    x = self.linear1(x)\n",
        "    x = self.relu(x)\n",
        "    x = self.linear2(x)\n",
        "    # Don't bother thinking of good names for intermediate variables, the standard is always to use x=layer(x)\n",
        "    # This is a short model, making a bunch of other intermediate variables will be painful in bigger models\n",
        "    return x"
      ],
      "execution_count": null,
      "outputs": []
    },
    {
      "cell_type": "markdown",
      "metadata": {
        "id": "h86h-ec0dbdk"
      },
      "source": [
        "## The Dataset\n",
        "\n",
        "We will look at Boston housing prices (from the 1970s). The dataset gives information on regions in Boston. For each region we are given a set of features. These features can be seen here: https://www.kaggle.com/c/boston-housing. They include things like if it's in an industrial part of town, or near the river, or the number of teachers in their public schools. The goal is to predict the median value of the houses in this area."
      ]
    },
    {
      "cell_type": "code",
      "metadata": {
        "id": "L6u96SRm5fdJ"
      },
      "source": [
        "import keras.datasets.boston_housing\n",
        "# Load the data\n",
        "(train_features, train_labels), (test_features, test_labels) = keras.datasets.boston_housing.load_data()\n",
        "\n",
        "# Convert to a tensor and change the datatype from double to float (gives an error later if you don't)\n",
        "train_features = torch.tensor(train_features).float()\n",
        "train_labels = torch.tensor(train_labels).float()\n",
        "test_features = torch.tensor(test_features).float()\n",
        "test_labels = torch.tensor(test_labels).float()"
      ],
      "execution_count": null,
      "outputs": []
    },
    {
      "cell_type": "code",
      "metadata": {
        "id": "znJMYR-P61b4"
      },
      "source": [
        "#https://keras.io/api/datasets/boston_housing/\n",
        "print(train_features.shape)\n",
        "print(train_labels.shape)\n",
        "\n",
        "# Look at the ground truth values\n",
        "print(\"Example Labels: {}\".format(train_labels[0:5]))\n",
        "\n",
        "num_examples = train_features.shape[0]\n",
        "# 13 input features for each house are given\n",
        "n_in = train_features.shape[1]\n",
        "\n",
        "# We're just estimating the cost (1 output), we'll see an example with multiple outputs next.\n",
        "n_out = 1\n",
        "\n",
        "print(\"Number of inputs {}, Number of elements in the dataset {}, Number of outputs {}\".format(n_in, num_examples, n_out))"
      ],
      "execution_count": null,
      "outputs": []
    },
    {
      "cell_type": "code",
      "metadata": {
        "id": "Scye91yYBgWp"
      },
      "source": [
        "# Make a Neural Network with the appropriate inputs and outputs\n",
        "model = my_NN(n_in, n_out, 16)"
      ],
      "execution_count": null,
      "outputs": []
    },
    {
      "cell_type": "code",
      "metadata": {
        "id": "bWA10F627cIB"
      },
      "source": [
        "# Before training\n",
        "print(\"Prediction: {}, Ground Truth {}\".format(model(train_features[0]), train_labels[0]))"
      ],
      "execution_count": null,
      "outputs": []
    },
    {
      "cell_type": "code",
      "metadata": {
        "id": "WEOWDNH97TIR"
      },
      "source": [
        "from torch import optim\n",
        "\n",
        "# Remake it here just so we don't train the same model twice\n",
        "model = my_NN(n_in, n_out, 16)\n",
        "\n",
        "# The optimization method we'll use is Adam, it's like SGD, but better\n",
        "optimizer = optim.Adam(params=model.parameters(), lr=1e-3)\n",
        "\n",
        "# How many passes through the dataset we'll perform\n",
        "n_epochs = 10\n",
        "\n",
        "for i in range(n_epochs):\n",
        "  # We'll iterate through the features and labels together with the zip function\n",
        "  for features, label in zip(train_features, train_labels):\n",
        "    # For a set of features, get our predicted housing cost\n",
        "    y_pred = model(features)\n",
        "\n",
        "    # Figure out how far off we are from the correct value\n",
        "    loss = mse(y_pred, label)\n",
        "\n",
        "    # Now the pytorch stuff:\n",
        "    # find the gradient\n",
        "    loss.backward()\n",
        "    # Take a step in that direction\n",
        "    optimizer.step()\n",
        "    # And reset the gradient\n",
        "    optimizer.zero_grad()\n",
        "  print(\"Error for entire dataset: \", mse(model(train_features), train_labels).item())"
      ],
      "execution_count": null,
      "outputs": []
    },
    {
      "cell_type": "code",
      "metadata": {
        "id": "R_hkmpXN-h9j"
      },
      "source": [
        "n_epochs = 25\n",
        "model = my_NN(n_in, n_out, 16)\n",
        "optimizer = optim.Adam(params=model.parameters(), lr=1e-3)\n",
        "losses = []\n",
        "batch_size = 16\n",
        "\n",
        "for i in range(n_epochs):\n",
        "  # We'll print the training loss every epoch\n",
        "  # You MUST call .item(), which get's the number for the training loss and separates it from the gradient\n",
        "  # If you don't call .item(), you WILL run out of memory at some point, the gradient takes a lot of memory to store\n",
        "  train_loss = mse(model(train_features), train_labels).item()\n",
        "  losses.append(train_loss)\n",
        "  print(\"Training Loss: \", train_loss)\n",
        "  # Same stuff so far, just going to keep track of which batch we're on with an enumerate as well\n",
        "  for j, (features, label) in enumerate(zip(train_features, train_labels)):\n",
        "    y_pred = model(features)\n",
        "\n",
        "    loss = mse(y_pred, label)\n",
        "    loss.backward()\n",
        "    # The main difference from the last cell: Only take steps after every batch, not every item\n",
        "    if j % batch_size == 0 or j == len(train_features):\n",
        "      optimizer.step()\n",
        "      optimizer.zero_grad()\n",
        "\n",
        "print(\"Final MSE on training set: \", mse(model(train_features), train_labels).item())\n",
        "print(\"Final MSE on Test set: \", mse(model(test_features), test_labels).item())"
      ],
      "execution_count": null,
      "outputs": []
    },
    {
      "cell_type": "code",
      "metadata": {
        "id": "AK5f5ugpBMQ1"
      },
      "source": [
        "# Plot what our loss function looked like during training\n",
        "# note how it's not always decreasing, why might that be?\n",
        "plt.plot(losses)\n",
        "plt.xlabel(\"Epochs\")\n",
        "plt.ylabel(\"MSE\")\n",
        "plt.title(\"Error while Training\")\n",
        "plt.show()"
      ],
      "execution_count": null,
      "outputs": []
    },
    {
      "cell_type": "markdown",
      "metadata": {
        "id": "7elUAeIZklTj"
      },
      "source": [
        "## Hyperparameter Tuning\n",
        "\n",
        "Machine Learning models generally have parameters which are being optimized for during the training process. In Linear Regressions, these are m and b, the slope and bias variables. In Neural Networks, the parameters are the weights and biases for each neuron. There are another set of variables that we have control of, called <i>hyperparameters</i>. These are variables that are set by the programmer, including things like the learning rate, batch size, loss function, and, importantly, the <i>model architecture</i>. The model architecture includes the width (number of neurons per layer) and depth of the model (how many layers), the activation functions used (ReLU/tanh/sigmoid), and the types of layers used (convolutional layers/linear layers/other specialized layers). Hyperparameter tuning is a bit of an art that relies on building intuition on which variables will effect the training in which ways. What happens when you make the NN much larger? What happens when you drop the learning rate and continue the training process for 1000 epochs? Play around with the hyperparameters for our model and training process and see if you see any trends. Keep in mind there is randomness in how the wieghts in the NN are initialized, so if you run it twice in a row it won't produce the same results."
      ]
    },
    {
      "cell_type": "code",
      "metadata": {
        "id": "TzUZwcsThvRY"
      },
      "source": [
        "# With a very large model (1000 nodes in our hidden layer)\n",
        "n_epochs = 25\n",
        "print(\"Trying with a very-very large model\")\n",
        "model = my_NN(n_in, n_out, 1000)\n",
        "optimizer = optim.Adam(params=model.parameters(), lr=1e-3)\n",
        "losses = []\n",
        "batch_size = 16\n",
        "\n",
        "for i in range(n_epochs):\n",
        "  train_loss = mse(model(train_features), train_labels).item()\n",
        "  losses.append(train_loss)\n",
        "  print(\"Training Loss: \", train_loss)\n",
        "  for j, (features, label) in enumerate(zip(train_features, train_labels)):\n",
        "    y_pred = model(features)\n",
        "\n",
        "    loss = mse(y_pred, label)\n",
        "    loss.backward()\n",
        "    if j % batch_size == 0 or j == len(train_features):\n",
        "      optimizer.step()\n",
        "      optimizer.zero_grad()\n",
        "\n",
        "print(\"Final MSE on training set: \", mse(model(train_features), train_labels).item())\n",
        "print(\"Final MSE on Test set: \", mse(model(test_features), test_labels).item())\n",
        "plt.plot(losses)\n",
        "plt.xlabel(\"Epochs\")\n",
        "plt.ylabel(\"MSE\")\n",
        "plt.title(\"Error while Training\")\n",
        "plt.show()"
      ],
      "execution_count": null,
      "outputs": []
    },
    {
      "cell_type": "markdown",
      "metadata": {
        "id": "gsjSabLwnuGP"
      },
      "source": [
        "##Validation Sets\n",
        "In our code, we looked at the performance on training set, and while it doesn't look like we're overfitting (train and test loss are roughly the same at the end of training), it is tempting to check how we're doing on the test set throughout the training process and tune our Hyperparameters to optimize performance on the test set. Even better, we could look at the test loss during training and select the model with the lowest error that we see (the loss often hits its lowest point prior to when we finish training). This is <b>bad</b> science. You must avoid changing hyperparameters or early stopping looking for better test performance because then you are fitting the hyperparameters to the test set, which defeats the purpose of the test set being separate from the training set. The test set is only for evaluating and understanding how our model would work on data we haven't seen yet. If we use it to inform our model, then it no longer works for understanding how our model will work with unseen data.\n",
        "\n",
        "That's why we often use a third dataset, the <i>validation set</i>, in addition to the train and test set. The validation set is like the test set, we don't use it to train our model (don't calculate loss and call backward on it), but we can look at it during training to understand how we might be doing on the test set. We can use the validation set to tune hyperparameters and maybe even stop the training early if we notice the validation error starting to increase. Since we only look at test error at the very end (when you're put tables in your paper, say), we keep the sanctity of the test set in tact."
      ]
    },
    {
      "cell_type": "code",
      "metadata": {
        "id": "qfHuSpfXuVBd"
      },
      "source": [
        "# Let's grab the dataset again\n",
        "(train_features, train_labels), (test_features, test_labels) = keras.datasets.boston_housing.load_data()\n",
        "train_features = torch.tensor(train_features).float()\n",
        "train_labels = torch.tensor(train_labels).float()\n",
        "test_features = torch.tensor(test_features).float()\n",
        "test_labels = torch.tensor(test_labels).float()"
      ],
      "execution_count": null,
      "outputs": []
    },
    {
      "cell_type": "code",
      "metadata": {
        "id": "xkK8CueHnTQB"
      },
      "source": [
        "# We could use train/test split as well, just showing different ways of doing things\n",
        "print(\"Original Training set Length \", len(train_features))\n",
        "validation_features, validation_labels = train_features[int(0.85*len(train_features)):], train_labels[int(0.85*len(train_features)):]\n",
        "train_features, train_labels = train_features[:int(0.85*len(train_features))], train_labels[:int(0.85*len(train_features))]\n",
        "\n",
        "print(len(validation_features), len(train_features))\n",
        "\n",
        "# And just repeating the same training process we had previously\n",
        "n_epochs = 25\n",
        "model = my_NN(n_in, n_out, 16)\n",
        "optimizer = optim.Adam(params=model.parameters(), lr=1e-3)\n",
        "losses = []\n",
        "v_losses = []\n",
        "batch_size = 16\n",
        "\n",
        "for i in range(n_epochs):\n",
        "  train_loss = mse(model(train_features), train_labels).item()\n",
        "  losses.append(train_loss)\n",
        "\n",
        "  # This time we'll print out our validation loss as well.\n",
        "  validation_loss = mse(model(validation_features), validation_labels).item()\n",
        "  v_losses.append(validation_loss)\n",
        "\n",
        "  print(\"Training Loss: {}, Validation Loss {}: \".format(train_loss, validation_loss))\n",
        "  for j, (features, label) in enumerate(zip(train_features, train_labels)):\n",
        "    y_pred = model(features)\n",
        "\n",
        "    loss = mse(y_pred, label)\n",
        "    loss.backward()\n",
        "    if j % batch_size == 0 or j == len(train_features):\n",
        "      optimizer.step()\n",
        "      optimizer.zero_grad()\n",
        "\n",
        "print(\"Final MSE on training set: \", mse(model(train_features), train_labels).item())\n",
        "print(\"Final MSE on Test set: \", mse(model(test_features), test_labels).item())\n",
        "plt.plot(losses, label='training loss')\n",
        "plt.plot(v_losses, label='validation loss')\n",
        "plt.legend()\n",
        "plt.xlabel(\"Epochs\")\n",
        "plt.ylabel(\"MSE\")\n",
        "plt.title(\"Error while Training\")\n",
        "plt.show()"
      ],
      "execution_count": null,
      "outputs": []
    },
    {
      "cell_type": "markdown",
      "metadata": {
        "id": "eJjWKwofuqKB"
      },
      "source": [
        "# Deep Learning: Convolutional Neural Networks\n",
        "We will now look at convolutional neural networks, which use convolutional layers in our network architecture. Convolutions were used for a long time in computer vision tasks before being incorporated into neural networks. Convolutions are essentially operations on a small section of an image (e.g., 3x3 pixels) that are repeated on every section of the image. [This article](https://purnasaigudikandula.medium.com/a-beginner-intro-to-convolutional-neural-networks-684c5620c2ce) has some good examples of the different things convolutions (filters) are capable of, including edge detection, sharpening, and blurring. Prior to NNs, researchers would develop specific filters that would help them do certain tasks, like edge detection filters for lane detection in autonomous driving tasks. Convolutions began to be included in neural networks, with the idea being to have the parameters of the convolution be trained by the neural network rather than developed by hand. In 2012, the first major breakthrough took place where Convolution Neural Networks (CNNs) out performed traditional methods by doing a large series of convolutions (very deep network), and there has been an explosion of research on CNNs and deep learning ever since."
      ]
    },
    {
      "cell_type": "markdown",
      "metadata": {
        "id": "m3ARUUJy2G1d"
      },
      "source": [
        "## MNIST\n",
        "MNIST is a dataset of digits that long stood as a benchmark for computer vision methods. It no longer is used much in research, as methods can now achieve very high accuracy on this simple dataset, but for many years in the 1990s and 2000s, it was a standard benchmark in many papers. Each piece of data contains a 28x28 black and white image of a digit and a label which is the correct label for that image. Our goal is to predict that label.\n",
        "\n",
        "## Classification\n",
        "MNIST is best tackled as a classification task, rather than a regression task. It doesn't make a whole lot of sense to use MSE in this scenario. If we are trying to predict a 0, but incorrectly predict a 9, it shouldn't count against our model worse than predicting it as a 1. Using MSE, the loss for a 9 prediction would be MSE=81, but just MSE=1 for a prediction of a 1. Instead, we will output 10 outputs from our network (one for each digit) and take the highest output to be what the model predicts.\n",
        "\n",
        "Instead of MSE, we will use a loss function called <i>Cross Entropy Loss</i>, which is used for classification tasks. https://pytorch.org/docs/stable/generated/torch.nn.CrossEntropyLoss.html"
      ]
    },
    {
      "cell_type": "code",
      "metadata": {
        "id": "rlpiHVLP2CVy"
      },
      "source": [
        "import torchvision\n",
        "\n",
        "batch_size_test = 64\n",
        "batch_size_train = 64\n",
        "\n",
        "train_loader = torch.utils.data.DataLoader(\n",
        "  torchvision.datasets.MNIST('/files/', train=True, download=True,\n",
        "                             transform=torchvision.transforms.Compose([\n",
        "                               torchvision.transforms.ToTensor(),\n",
        "                               torchvision.transforms.Normalize(\n",
        "                                 (0.1307,), (0.3081,))\n",
        "                             ])),\n",
        "  batch_size=batch_size_train, shuffle=True)\n",
        "\n",
        "test_loader = torch.utils.data.DataLoader(\n",
        "  torchvision.datasets.MNIST('/files/', train=False, download=True,\n",
        "                             transform=torchvision.transforms.Compose([\n",
        "                               torchvision.transforms.ToTensor(),\n",
        "                               torchvision.transforms.Normalize(\n",
        "                                 (0.1307,), (0.3081,))\n",
        "                             ])),\n",
        "  batch_size=batch_size_test, shuffle=True)"
      ],
      "execution_count": null,
      "outputs": []
    },
    {
      "cell_type": "code",
      "metadata": {
        "id": "OqJ2os7-7ZlO"
      },
      "source": [
        "i, (example_data, label) = next(enumerate(train_loader))\n",
        "print(\"Shape of each batch: \", example_data.size())\n",
        "fig = plt.figure()\n",
        "plt.imshow(example_data[0][0], cmap='gray', interpolation='none')\n",
        "fig.show()\n",
        "print(\"Label: \", label[0])\n",
        "print(\"6x20 section of the image: \\n\", example_data[0][0][:20, 10:16])"
      ],
      "execution_count": null,
      "outputs": []
    },
    {
      "cell_type": "code",
      "metadata": {
        "id": "LJXW3QrW7pvM"
      },
      "source": [
        "class CNN(nn.Module):\n",
        "    def __init__(self):\n",
        "        super().__init__()\n",
        "        # CNN layers take the number of channels (colors, for instance) in an image\n",
        "        # Convolutions can actually work for any size (w x h) image as long as the number of channels is the same\n",
        "        # The kernel size is the size of the filter used, read the medium article for more info on filters/convolutions\n",
        "        # The stride is how far you shift the filter after each application\n",
        "        self.conv1 = nn.Conv2d(in_channels=1, out_channels=10, kernel_size=3, stride=1)\n",
        "        self.conv2 = nn.Conv2d(in_channels=10, out_channels=20, kernel_size=3, stride=1)\n",
        "\n",
        "        # Figuring out the number of inputs to the linear section is always a challenge\n",
        "        # I usually run the model and read what the error message says the size should be\n",
        "        # There is an exact formula for figuring out how many outputs each convolution has,\n",
        "        # but it's complicated and you might have to do it many times\n",
        "        self.fc1 = nn.Linear(80, 50)\n",
        "        self.fc2 = nn.Linear(50, 10)\n",
        "\n",
        "        # Pooling is a non-linear operation used often in image processing\n",
        "        self.pool = nn.MaxPool2d(kernel_size=3)\n",
        "        self.relu = nn.ReLU()\n",
        "\n",
        "        # Finally, classification uses a softmax, which is a differentiable version of the max function\n",
        "        # Softmax converts an array of numbers into an array of numbers that sum to 1\n",
        "        # The original array slot that was largest will be largest in the new array\n",
        "        # You can also use this in RL to convert outputs to probabilities\n",
        "        self.softmax = nn.Softmax()\n",
        "\n",
        "    def forward(self, x):\n",
        "        x = self.conv1(x)\n",
        "        x = self.pool(x)\n",
        "        x = self.relu(x)\n",
        "\n",
        "        x = self.conv2(x)\n",
        "        x = self.pool(x)\n",
        "        x = self.relu(x)\n",
        "\n",
        "        # Convolutions produce tensors with more dimensions and we need to convert them to a 1d array\n",
        "        # We can also use nn.Flatten()\n",
        "        # We need to reshape it into (b x L), where b is the batch size and L is the input to the linear layer\n",
        "        # If you know batch size ahead of time, you can use that\n",
        "        # If you know your linear layer size you can use that\n",
        "        # -1 is a placeholder for pytorch, it says I have 320 floats I need to reshape to be (x, 80) where x is unknown\n",
        "        # And pytorch does the reshaping for you. In that case, it makes a (4x80) tensor\n",
        "        x = x.view(-1, 80)\n",
        "\n",
        "        x = self.fc1(x)\n",
        "        x = self.relu(x)\n",
        "        x = self.fc2(x)\n",
        "\n",
        "        return self.softmax(x)"
      ],
      "execution_count": null,
      "outputs": []
    },
    {
      "cell_type": "code",
      "metadata": {
        "id": "kmpr3ZkQ9x9c"
      },
      "source": [
        "class CNN(nn.Module):\n",
        "    def __init__(self):\n",
        "        super(CNN, self).__init__()\n",
        "\n",
        "        # We can keep things cleaner by using nn.Sequential, which will do the operations in the order they are given\n",
        "        # Each operation running on the output of the previous layer\n",
        "        self.convolutions = nn.Sequential(\n",
        "                      nn.Conv2d(1, 10, kernel_size=3, stride=1),\n",
        "                      nn.MaxPool2d(kernel_size=3),\n",
        "                      nn.ReLU(),\n",
        "                      nn.Conv2d(10, 20, kernel_size=3, stride=1),\n",
        "                      nn.MaxPool2d(kernel_size=3))\n",
        "        self.linear_layers = nn.Sequential(\n",
        "                      nn.Linear(80, 50),\n",
        "                      nn.ReLU(),\n",
        "                      nn.Linear(50, 10),\n",
        "                      nn.Softmax())\n",
        "\n",
        "    def forward(self, x):\n",
        "        batch_size = x.size()[0]\n",
        "        x = self.convolutions(x)\n",
        "        x = x.view(batch_size, -1)\n",
        "        y = self.linear_layers(x)\n",
        "        return y"
      ],
      "execution_count": null,
      "outputs": []
    },
    {
      "cell_type": "code",
      "metadata": {
        "id": "67mz068u_nwp"
      },
      "source": [
        "def train(train_loader, model, n_epochs, learning_rate=1e-4):\n",
        "    losses = []\n",
        "    optimizer = optim.Adam(model.parameters(), lr=learning_rate)\n",
        "    loss_fn = nn.CrossEntropyLoss()\n",
        "    for epoch in range(n_epochs):\n",
        "      # We'll use PyTorch's built in dataloaders here, which make batches easier to work with\n",
        "      for batch_idx, (data, labels) in enumerate(train_loader):\n",
        "        batch_loss = 0\n",
        "        y_preds = model(data)\n",
        "        loss = loss_fn(y_preds, labels)\n",
        "        loss.backward()\n",
        "        optimizer.step()\n",
        "        optimizer.zero_grad()\n",
        "\n",
        "        # And we'll keep the losses around for plotting\n",
        "        losses.append(loss.item())\n",
        "    return losses"
      ],
      "execution_count": null,
      "outputs": []
    },
    {
      "cell_type": "code",
      "metadata": {
        "id": "W5djvmmSAMbE"
      },
      "source": [
        "model = CNN()\n",
        "losses = train(train_loader, model, 5)\n",
        "\n",
        "plt.plot(losses)\n",
        "plt.xlabel(\"Number of batches processed\")\n",
        "plt.ylabel(\"Cross Entropy Loss\")\n",
        "plt.title(\"Training loss for MNIST\")\n",
        "plt.show()"
      ],
      "execution_count": null,
      "outputs": []
    },
    {
      "cell_type": "markdown",
      "metadata": {
        "id": "3_YH56oy9MtH"
      },
      "source": [
        "##GPUs and CUDA\n",
        "\n",
        "The GPU (Graphical Processing Unit) turns out to be perfectly suited to running neural networks. Graphics (for games, videos, or simulations) require lots of parallel operations and matrix multiplication (think thousands of cores rather than the 8 cores on your laptop CPU, but each GPU core is very weak on its own). Running Neural Networks can be sped up significantly by doing all the weights and biases in parallel on the GPU. (What's really happening is a large matrix multiplication, each cell in the output matrix can be computed independently of the other cells).\n",
        "\n",
        "CUDA is Nvidia's GPU language. Torch and other libraries are able to use CUDA behind the scenes for you. Colab also gives you a GPU to use for free! Which is great because the GPU I'm currently on is a Tesla T4, which is currently going for over $2,000 for just the GPU."
      ]
    },
    {
      "cell_type": "code",
      "metadata": {
        "id": "bd-HrFFdAXmk"
      },
      "source": [
        "from tqdm import tqdm\n",
        "# tqdm is a great tool and you should use it! It makes nice progress bars for your loops\n",
        "# just put tqdm(the thing you're looping over): and it does it automatically\n",
        "\n",
        "def train(train_loader, model, n_epochs, learning_rate=1e-4,gpu=True):\n",
        "    # It took a while without a GPU, let's add our model to the GPU and speed it up!\n",
        "    losses = []\n",
        "    optimizer = optim.Adam(model.parameters(), lr=learning_rate)\n",
        "    loss_fn = nn.CrossEntropyLoss()\n",
        "    for epoch in tqdm(range(n_epochs)):\n",
        "      for batch_idx, (data, labels) in enumerate(train_loader):\n",
        "\n",
        "        #This is the only thing we have to add! Just call .cuda() to put the data on the GPU!\n",
        "        if gpu:\n",
        "          data = data.cuda()\n",
        "          labels = labels.cuda()\n",
        "        batch_loss = 0\n",
        "        y_preds = model(data)\n",
        "        loss = loss_fn(y_preds, labels)\n",
        "        loss.backward()\n",
        "        optimizer.step()\n",
        "        optimizer.zero_grad()\n",
        "        losses.append(loss.item())\n",
        "    return losses\n",
        "\n",
        "if torch.cuda.device_count() > 0:\n",
        "  cuda = True\n",
        "  # GPU is available!\n",
        "  print(torch.cuda.get_device_name(0))\n",
        "  # Call .cuda() to put the model on the GPU, everything else is the same\n",
        "  model = CNN().cuda()\n",
        "  losses = train(train_loader, model, 5)\n",
        "  plt.plot(losses)\n",
        "  plt.xlabel(\"Number of batches processed\")\n",
        "  plt.ylabel(\"Cross Entropy Loss\")\n",
        "  plt.title(\"Training loss for MNIST\")\n",
        "  plt.show()\n",
        "else:\n",
        "  print(\"No GPU :(, go enable at edit->settings->hardware acceleration->gpu\")\n",
        "  print(\"Rerun necessary cells\")"
      ],
      "execution_count": null,
      "outputs": []
    },
    {
      "cell_type": "code",
      "metadata": {
        "id": "_l130QivEW76"
      },
      "source": [
        "\n",
        "i, (example_data, label) = next(enumerate(train_loader))\n",
        "print(\"Shape of each batch: \", example_data.size())\n",
        "fig = plt.figure()\n",
        "plt.imshow(example_data[0][0], cmap='gray', interpolation='none')\n",
        "fig.show()\n",
        "print(\"Label: \", label[0])\n",
        "if cuda:\n",
        "  print(\"Prediction: \", model(example_data.cuda())[0])\n",
        "  print(\"-----------\")\n",
        "  print(\"Predicted Label: \", torch.argmax(model(example_data.cuda())[0]).item())\n",
        "  print(\"-----------\")\n",
        "else:\n",
        "  print(\"Prediction: \", model(example_data)[0])\n",
        "  print(\"-----------\")\n",
        "  print(\"Predicted Label: \", torch.argmax(model(example_data)[0]).item())\n",
        "  print(\"-----------\")"
      ],
      "execution_count": null,
      "outputs": []
    },
    {
      "cell_type": "code",
      "metadata": {
        "id": "eOaqNkQzIF-C"
      },
      "source": [
        "def confusion_matrix(data_loader, model):\n",
        "  right = 0\n",
        "  total = 0\n",
        "  confusion = np.zeros((10, 10))\n",
        "  for (data, labels) in data_loader:\n",
        "    preds = model(data)\n",
        "    predicted_digits = torch.argmax(preds, dim=1)\n",
        "    for l, p in zip(labels, predicted_digits):\n",
        "      # Check if we got it right for every digit in the batch\n",
        "      if l == p:\n",
        "        right += 1\n",
        "      total += 1\n",
        "      confusion[l, p] += 1\n",
        "  print(\"Accuracy: \", right / total)\n",
        "  print(\"{} Correct out of {} Total\".format(right, total))\n",
        "  plt.title(\"Confusion Matrix\")\n",
        "  plt.xlabel(\"True Label\")\n",
        "  plt.ylabel(\"Predicted Label\")\n",
        "  plt.imshow(confusion, cmap=\"coolwarm\")\n",
        "  plt.show()\n",
        "print(\"Training Set Results\")\n",
        "confusion_matrix(train_loader, model.cpu())\n",
        "\n",
        "print(\"Test Set Results\")\n",
        "confusion_matrix(test_loader, model.cpu())"
      ],
      "execution_count": null,
      "outputs": []
    },
    {
      "cell_type": "markdown",
      "metadata": {
        "id": "74q-qU-LXehH"
      },
      "source": [
        "# AlexNet\n",
        "AlexNet was the paper that came out in 2012 and revolutionized the field of deep learning and computer vision. It was the first deep learning model to achieve performance better than traditional image recognition methods. Here, we will re-implement their model and training. We will skip many of the tricks they use to optimize performance during training, but the network architecture will be the same. Diagrams of NNs are often provided in papers, and our goal is to reconstruct their model from their specifications. AlexNet was originally trained for imagenet, that's too big for us (~14 million images), we're going to use CIFAR10, a dataset with 10 classes of images and fewer examples of each."
      ]
    },
    {
      "cell_type": "markdown",
      "metadata": {
        "id": "R3EE3zQWD9Fe"
      },
      "source": [
        "![image.png](data:image/png;base64,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)"
      ]
    },
    {
      "cell_type": "markdown",
      "metadata": {
        "id": "yTfnO6LMD-oe"
      },
      "source": []
    },
    {
      "cell_type": "markdown",
      "metadata": {
        "id": "pJ7L0lFCEBkE"
      },
      "source": [
        "Convolutions are represented typically as 3-D rectangular polyhedra. In this diagram, the number of input channels are given below each convolution (3, 96, 256,...). The filter/convolution size is denoted here by a grey rectangle (11x11, 5x5, 3x3,...). They denoted with dotted arrows where they do pooling. Each convolution and linear layer is followed by a ReLU, they just don't label it every time. Linear layers (here referred to as FC:fully-connected) are also listed with their widths (4096). Now that we understand the order of layers, let's go implement it!"
      ]
    },
    {
      "cell_type": "code",
      "metadata": {
        "id": "G5ECNADpQagG"
      },
      "source": [
        "class AlexNet(nn.Module):\n",
        "  def __init__(self):\n",
        "    super(AlexNet, self).__init__()\n",
        "    # self.conv1 = nn.Conv2d(3, 6, 5)\n",
        "    # self.pool = nn.MaxPool2d(2, 2)\n",
        "    # self.conv2 = nn.Conv2d(6, 16, 5)\n",
        "    # self.fc1 = nn.Linear(16 * 5 * 5, 120)\n",
        "    # self.fc2 = nn.Linear(120, 84)\n",
        "    # self.fc3 = nn.Linear(84, 10)\n",
        "    # self.relu = nn.ReLU()\n",
        "    # self.flatten = nn.Flatten()\n",
        "    # self.net = nn.Sequential(\n",
        "    #     self.conv1,\n",
        "    #     self.relu,\n",
        "    #     self.pool,\n",
        "    #     self.conv2,\n",
        "    #     self.relu,\n",
        "    #     self.pool,\n",
        "    #     self.flatten,\n",
        "    #     self.fc1,\n",
        "    #     self.relu,\n",
        "    #     self.fc2,\n",
        "    #     self.relu,\n",
        "    #     self.fc3,\n",
        "    # )\n",
        "    self.convs = nn.Sequential(\n",
        "            # Input is (b x 3 x 227 x 227)\n",
        "            nn.Conv2d(in_channels=3, out_channels=96, kernel_size=5, stride=3),\n",
        "            nn.ReLU(),\n",
        "            nn.MaxPool2d(kernel_size=3, stride=1),\n",
        "            nn.Conv2d(96, 256, 5, padding=2),\n",
        "            nn.ReLU(),\n",
        "            nn.MaxPool2d(kernel_size=3, stride=1),\n",
        "            nn.Conv2d(256, 384, 3, padding=1),\n",
        "            nn.ReLU(),\n",
        "            nn.Conv2d(384, 384, 3, padding=1),\n",
        "            nn.ReLU(),\n",
        "            nn.Conv2d(384, 36, 3, padding=1),\n",
        "            nn.ReLU(),\n",
        "            nn.MaxPool2d(kernel_size=3, stride=1),\n",
        "    )\n",
        "\n",
        "\n",
        "    self.linear = nn.Sequential(\n",
        "        nn.Linear(576, 256),\n",
        "        nn.ReLU(),\n",
        "        nn.Linear(256, 4096),\n",
        "        nn.ReLU(),\n",
        "        nn.Linear(4096, 10),\n",
        "        nn.Softmax()\n",
        "    )\n",
        "\n",
        "  def forward(self, x):\n",
        "    batch_size = x.size()[0]\n",
        "    x = self.convs(x)\n",
        "    x = x.view(batch_size, -1)\n",
        "    return self.linear(x)"
      ],
      "execution_count": null,
      "outputs": []
    },
    {
      "cell_type": "code",
      "metadata": {
        "id": "87Qq1GsGIOWM"
      },
      "source": [
        "x = torch.randn(1, 3, 32, 32)\n",
        "model = AlexNet()\n",
        "print(\"First 5 predictions on random input\", model(x)[0])"
      ],
      "execution_count": null,
      "outputs": []
    },
    {
      "cell_type": "code",
      "metadata": {
        "id": "GLnGXn7IMCjD"
      },
      "source": [
        "import torchvision.datasets as datasets\n",
        "import torchvision.transforms as transforms\n",
        "transform = transforms.Compose(\n",
        "    [transforms.ToTensor(),\n",
        "     transforms.Normalize((0.5, 0.5, 0.5), (0.5, 0.5, 0.5))])\n",
        "\n",
        "train_set = torchvision.datasets.CIFAR10(root='./data', train=True,\n",
        "                                        download=True, transform=transform)\n",
        "train_loader = torch.utils.data.DataLoader(train_set, batch_size=4,\n",
        "                                          shuffle=True, num_workers=2)\n",
        "\n",
        "test_set = torchvision.datasets.CIFAR10(root='./data', train=False,\n",
        "                                       download=True, transform=transform)\n",
        "test_loader = torch.utils.data.DataLoader(test_set, batch_size=4,\n",
        "                                         shuffle=False, num_workers=2)\n",
        "classes = ('plane', 'car', 'bird', 'cat',\n",
        "           'deer', 'dog', 'frog', 'horse', 'ship', 'truck')\n",
        "print(\"Dataset Downloaded\")"
      ],
      "execution_count": null,
      "outputs": []
    },
    {
      "cell_type": "code",
      "metadata": {
        "id": "DWHSpwC4S4Vl"
      },
      "source": [
        "def imshow(img):\n",
        "    img = img / 2 + 0.5     # unnormalize\n",
        "    npimg = img.numpy()\n",
        "    plt.imshow(np.transpose(npimg, (1, 2, 0)))\n",
        "\n",
        "\n",
        "# get some random training images\n",
        "dataiter = iter(train_loader)\n",
        "images, labels = dataiter.next()\n",
        "print(images.size())\n",
        "# show images\n",
        "imshow(torchvision.utils.make_grid(images))\n",
        "# print labels\n",
        "print(' '.join('%5s' % classes[labels[j]] for j in range(4)))"
      ],
      "execution_count": null,
      "outputs": []
    },
    {
      "cell_type": "code",
      "metadata": {
        "id": "XEdE308_WCGh"
      },
      "source": [
        "def train(train_loader, model, n_epochs, learning_rate=1e-3,gpu=True):\n",
        "    losses = []\n",
        "    correct, total = 0, 0\n",
        "    optimizer = optim.Adam(model.parameters(), lr=learning_rate)\n",
        "    loss_fn = nn.CrossEntropyLoss()\n",
        "    running_loss = 0.0\n",
        "    for epoch in range(n_epochs):\n",
        "      for batch_idx, (data, labels) in enumerate(train_loader):\n",
        "        if gpu:\n",
        "          data = data.cuda()\n",
        "          labels = labels.cuda()\n",
        "        batch_loss = 0\n",
        "        y_preds = model(data)\n",
        "        correct += (y_preds.argmax(dim=1) == labels).count_nonzero()\n",
        "        total += len(y_preds)\n",
        "        loss = loss_fn(y_preds, labels)\n",
        "        loss.backward()\n",
        "        optimizer.step()\n",
        "        optimizer.zero_grad()\n",
        "        losses.append(loss.item())\n",
        "        running_loss += loss.item()\n",
        "        if batch_idx % 1000 == 0 and batch_idx != 0:\n",
        "          if total != 0:\n",
        "            accuracy = correct / total\n",
        "          else:\n",
        "            accuracy = 0\n",
        "          print(\"Epoch: {}, Batch: {}, Loss: {:.2f}, Accuracy: {:.3f}\".format(epoch, batch_idx, running_loss/1000, accuracy))\n",
        "          running_loss = 0\n",
        "          correct = 0\n",
        "          total = 0\n",
        "    return losses"
      ],
      "execution_count": null,
      "outputs": []
    },
    {
      "cell_type": "code",
      "metadata": {
        "id": "kYlElrEbWMLA"
      },
      "source": [
        "model = AlexNet()\n",
        "losses = train(train_loader, model.cuda(), 5)"
      ],
      "execution_count": null,
      "outputs": []
    },
    {
      "cell_type": "code",
      "metadata": {
        "id": "VAGEt8ccOuf8"
      },
      "source": [],
      "execution_count": null,
      "outputs": []
    }
  ]
}